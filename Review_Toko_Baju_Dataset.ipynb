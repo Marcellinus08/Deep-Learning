{
  "nbformat": 4,
  "nbformat_minor": 0,
  "metadata": {
    "colab": {
      "provenance": [],
      "authorship_tag": "ABX9TyPZu502J7niCCUnhI42P5zv",
      "include_colab_link": true
    },
    "kernelspec": {
      "name": "python3",
      "display_name": "Python 3"
    },
    "language_info": {
      "name": "python"
    }
  },
  "cells": [
    {
      "cell_type": "markdown",
      "metadata": {
        "id": "view-in-github",
        "colab_type": "text"
      },
      "source": [
        "<a href=\"https://colab.research.google.com/github/Marcellinus08/Deep-Learning/blob/main/Review_Toko_Baju_Dataset.ipynb\" target=\"_parent\"><img src=\"https://colab.research.google.com/assets/colab-badge.svg\" alt=\"Open In Colab\"/></a>"
      ]
    },
    {
      "cell_type": "markdown",
      "source": [
        "Import Library"
      ],
      "metadata": {
        "id": "lYBx4zpNDU6w"
      }
    },
    {
      "cell_type": "code",
      "execution_count": 8,
      "metadata": {
        "id": "DTCXHntrC_lb"
      },
      "outputs": [],
      "source": [
        "import pandas as pd\n",
        "import numpy as np\n",
        "import re\n",
        "from sklearn.model_selection import train_test_split\n",
        "from tensorflow.keras.preprocessing.text import Tokenizer\n",
        "from tensorflow.keras.preprocessing.sequence import pad_sequences\n",
        "\n",
        "from tensorflow.keras.models import Sequential\n",
        "from tensorflow.keras.layers import Embedding, Bidirectional, LSTM, Dense, Dropout\n",
        "from tensorflow.keras.callbacks import EarlyStopping\n",
        "from sklearn.metrics import accuracy_score, precision_score, recall_score, f1_score, roc_auc_score, roc_curve\n",
        "import matplotlib.pyplot as plt\n"
      ]
    },
    {
      "cell_type": "code",
      "source": [
        "url2 = \"https://raw.githubusercontent.com/farrelrassya/teachingMLDL/refs/heads/main/02.%20Deep%20Learning/04.%20Week%204/Dataset/ReviewTokoBaju.csv\"\n",
        "df2 = pd.read_csv(url2)\n",
        "\n",
        "# Tampilkan 5 baris pertama\n",
        "print(df2[['Review Text', 'Recommended IND']].head())\n"
      ],
      "metadata": {
        "colab": {
          "base_uri": "https://localhost:8080/"
        },
        "id": "ZEvS9T-qERII",
        "outputId": "0ff33488-9bd1-4e59-c8ca-d82081d03e9c"
      },
      "execution_count": 9,
      "outputs": [
        {
          "output_type": "stream",
          "name": "stdout",
          "text": [
            "                                         Review Text  Recommended IND\n",
            "0  Absolutely wonderful - silky and sexy and comf...                1\n",
            "1  Love this dress!  it's sooo pretty.  i happene...                1\n",
            "2  I had such high hopes for this dress and reall...                0\n",
            "3  I love, love, love this jumpsuit. it's fun, fl...                1\n",
            "4  This shirt is very flattering to all due to th...                1\n"
          ]
        }
      ]
    },
    {
      "cell_type": "markdown",
      "source": [
        "Bersihkan Data"
      ],
      "metadata": {
        "id": "2Ujc8Gb1EqUA"
      }
    },
    {
      "cell_type": "code",
      "source": [
        "# Hapus baris yang Review Text-nya kosong\n",
        "df2 = df2.dropna(subset=['Review Text', 'Recommended IND'])\n",
        "\n",
        "# Bersihkan teks review\n",
        "def clean_text(s):\n",
        "    s = s.lower()\n",
        "    s = re.sub(r\"http\\S+|www\\S+\", \"\", s)\n",
        "    s = re.sub(r\"[^a-z0-9\\s]\", \"\", s)\n",
        "    s = re.sub(r\"\\s+\", \" \", s).strip()\n",
        "    return s\n",
        "\n",
        "df2['clean_review'] = df2['Review Text'].apply(clean_text)\n",
        "df2['label'] = df2['Recommended IND'].astype(int)\n"
      ],
      "metadata": {
        "id": "hMT-PhIPEqsn"
      },
      "execution_count": 10,
      "outputs": []
    },
    {
      "cell_type": "markdown",
      "source": [
        "Tokenisasi & Padding"
      ],
      "metadata": {
        "id": "h88FmS2iEuBf"
      }
    },
    {
      "cell_type": "code",
      "source": [
        "num_words = 30000\n",
        "maxlen = 500\n",
        "\n",
        "tokenizer2 = Tokenizer(num_words=num_words, oov_token=\"<OOV>\")\n",
        "tokenizer2.fit_on_texts(df2['clean_review'])\n",
        "\n",
        "X2_seq = tokenizer2.texts_to_sequences(df2['clean_review'])\n",
        "X2 = pad_sequences(X2_seq, maxlen=maxlen, padding='post', truncating='post')\n",
        "y2 = df2['label'].values\n"
      ],
      "metadata": {
        "id": "lyXEThMxEuff"
      },
      "execution_count": 11,
      "outputs": []
    },
    {
      "cell_type": "markdown",
      "source": [
        "Split Training & Testing"
      ],
      "metadata": {
        "id": "5oT_hQlqEyEH"
      }
    },
    {
      "cell_type": "code",
      "source": [
        "X2_train, X2_test, y2_train, y2_test = train_test_split(\n",
        "    X2, y2, test_size=0.2, random_state=42, stratify=y2\n",
        ")\n"
      ],
      "metadata": {
        "id": "oPT7bftHEzQx"
      },
      "execution_count": 12,
      "outputs": []
    },
    {
      "cell_type": "markdown",
      "source": [
        "Buat Model BiRNN"
      ],
      "metadata": {
        "id": "hd2rQdmuFBp4"
      }
    },
    {
      "cell_type": "code",
      "source": [
        "embedding_dim = 128\n",
        "\n",
        "model2 = Sequential([\n",
        "    Embedding(input_dim=num_words, output_dim=embedding_dim, input_length=maxlen),\n",
        "    Bidirectional(LSTM(64, return_sequences=False)),\n",
        "    Dropout(0.5),\n",
        "    Dense(64, activation='relu'),\n",
        "    Dropout(0.5),\n",
        "    Dense(1, activation='sigmoid')\n",
        "])\n",
        "\n",
        "model2.compile(loss='binary_crossentropy', optimizer='adam', metrics=['accuracy'])"
      ],
      "metadata": {
        "id": "7QkAI8x7FE7w"
      },
      "execution_count": 15,
      "outputs": []
    },
    {
      "cell_type": "markdown",
      "source": [
        "Latih Model"
      ],
      "metadata": {
        "id": "u1fghSnSFJwi"
      }
    },
    {
      "cell_type": "code",
      "source": [
        "early_stop = EarlyStopping(monitor='val_loss', patience=3, restore_best_weights=True)\n",
        "\n",
        "history2 = model2.fit(\n",
        "    X2_train, y2_train,\n",
        "    epochs=10,\n",
        "    batch_size=64,\n",
        "    validation_data=(X2_test, y2_test),\n",
        "    callbacks=[early_stop]\n",
        ")\n"
      ],
      "metadata": {
        "colab": {
          "base_uri": "https://localhost:8080/"
        },
        "id": "okl-BM9YFKc4",
        "outputId": "3ba90366-5826-438e-af05-44ba6efb7c12"
      },
      "execution_count": 17,
      "outputs": [
        {
          "output_type": "stream",
          "name": "stdout",
          "text": [
            "Epoch 1/10\n",
            "\u001b[1m283/283\u001b[0m \u001b[32m━━━━━━━━━━━━━━━━━━━━\u001b[0m\u001b[37m\u001b[0m \u001b[1m360s\u001b[0m 1s/step - accuracy: 0.9258 - loss: 0.1900 - val_accuracy: 0.8852 - val_loss: 0.2783\n",
            "Epoch 2/10\n",
            "\u001b[1m283/283\u001b[0m \u001b[32m━━━━━━━━━━━━━━━━━━━━\u001b[0m\u001b[37m\u001b[0m \u001b[1m383s\u001b[0m 1s/step - accuracy: 0.9471 - loss: 0.1435 - val_accuracy: 0.8768 - val_loss: 0.2994\n",
            "Epoch 3/10\n",
            "\u001b[1m283/283\u001b[0m \u001b[32m━━━━━━━━━━━━━━━━━━━━\u001b[0m\u001b[37m\u001b[0m \u001b[1m399s\u001b[0m 1s/step - accuracy: 0.9561 - loss: 0.1226 - val_accuracy: 0.8863 - val_loss: 0.3674\n",
            "Epoch 4/10\n",
            "\u001b[1m283/283\u001b[0m \u001b[32m━━━━━━━━━━━━━━━━━━━━\u001b[0m\u001b[37m\u001b[0m \u001b[1m382s\u001b[0m 1s/step - accuracy: 0.9660 - loss: 0.0935 - val_accuracy: 0.8823 - val_loss: 0.4720\n"
          ]
        }
      ]
    },
    {
      "cell_type": "markdown",
      "source": [
        "Visualisasi Akurasi dan Loss"
      ],
      "metadata": {
        "id": "cv5rs_lrQ42J"
      }
    },
    {
      "cell_type": "code",
      "source": [
        "plt.figure(figsize=(12, 5))\n",
        "\n",
        "# Accuracy\n",
        "plt.subplot(1, 2, 1)\n",
        "plt.plot(history2.history['accuracy'], label='Train Accuracy')\n",
        "plt.plot(history2.history['val_accuracy'], label='Val Accuracy')\n",
        "plt.title('Model Accuracy')\n",
        "plt.xlabel('Epoch')\n",
        "plt.ylabel('Accuracy')\n",
        "plt.legend()\n",
        "\n",
        "# Loss\n",
        "plt.subplot(1, 2, 2)\n",
        "plt.plot(history2.history['loss'], label='Train Loss')\n",
        "plt.plot(history2.history['val_loss'], label='Val Loss')\n",
        "plt.title('Model Loss')\n",
        "plt.xlabel('Epoch')\n",
        "plt.ylabel('Loss')\n",
        "plt.legend()\n",
        "\n",
        "plt.tight_layout()\n",
        "plt.show()\n"
      ],
      "metadata": {
        "colab": {
          "base_uri": "https://localhost:8080/",
          "height": 507
        },
        "id": "M1mW3SS5Q5PJ",
        "outputId": "7fbad21d-ff46-4145-f535-d9ee4a923324"
      },
      "execution_count": 18,
      "outputs": [
        {
          "output_type": "display_data",
          "data": {
            "text/plain": [
              "<Figure size 1200x500 with 2 Axes>"
            ],
            "image/png": "[encoded data removed]"
          },
          "metadata": {}
        }
      ]
    },
    {
      "cell_type": "markdown",
      "source": [
        "Evaluasi Model"
      ],
      "metadata": {
        "id": "aX8c4BCxQ-pJ"
      }
    },
    {
      "cell_type": "code",
      "source": [
        "# Prediksi dan konversi probabilitas ke 0/1\n",
        "y2_pred_prob = model2.predict(X2_test)\n",
        "y2_pred = (y2_pred_prob >= 0.5).astype(int).flatten()\n",
        "\n",
        "# Hitung metrik evaluasi\n",
        "acc2 = accuracy_score(y2_test, y2_pred)\n",
        "prec2 = precision_score(y2_test, y2_pred)\n",
        "rec2 = recall_score(y2_test, y2_pred)\n",
        "f1_2 = f1_score(y2_test, y2_pred)\n",
        "auc2 = roc_auc_score(y2_test, y2_pred_prob)\n",
        "\n",
        "print(f\"Accuracy: {acc2:.4f}\")\n",
        "print(f\"Precision: {prec2:.4f}\")\n",
        "print(f\"Recall: {rec2:.4f}\")\n",
        "print(f\"F1 Score: {f1_2:.4f}\")\n",
        "print(f\"AUC: {auc2:.4f}\")\n"
      ],
      "metadata": {
        "colab": {
          "base_uri": "https://localhost:8080/"
        },
        "id": "HL31uZwoQ_Tp",
        "outputId": "f2e5e781-1dab-4f78-c1f3-c36687d16bf3"
      },
      "execution_count": 19,
      "outputs": [
        {
          "output_type": "stream",
          "name": "stdout",
          "text": [
            "\u001b[1m142/142\u001b[0m \u001b[32m━━━━━━━━━━━━━━━━━━━━\u001b[0m\u001b[37m\u001b[0m \u001b[1m28s\u001b[0m 192ms/step\n",
            "Accuracy: 0.8852\n",
            "Precision: 0.9267\n",
            "Recall: 0.9337\n",
            "F1 Score: 0.9302\n",
            "AUC: 0.9184\n"
          ]
        }
      ]
    },
    {
      "cell_type": "markdown",
      "source": [
        "Plot ROC Curve"
      ],
      "metadata": {
        "id": "FGV6k_XDRDnq"
      }
    },
    {
      "cell_type": "code",
      "source": [
        "fpr2, tpr2, _ = roc_curve(y2_test, y2_pred_prob)\n",
        "\n",
        "plt.figure()\n",
        "plt.plot(fpr2, tpr2, label=f\"AUC = {auc2:.2f}\")\n",
        "plt.plot([0, 1], [0, 1], 'k--')\n",
        "plt.xlabel(\"False Positive Rate\")\n",
        "plt.ylabel(\"True Positive Rate\")\n",
        "plt.title(\"ROC Curve - Dataset 2\")\n",
        "plt.legend()\n",
        "plt.grid()\n",
        "plt.show()\n"
      ],
      "metadata": {
        "colab": {
          "base_uri": "https://localhost:8080/",
          "height": 472
        },
        "id": "UrN-wXMuRFBI",
        "outputId": "e991da62-2feb-4cec-cffc-6679c23e981f"
      },
      "execution_count": 20,
      "outputs": [
        {
          "output_type": "display_data",
          "data": {
            "text/plain": [
              "<Figure size 640x480 with 1 Axes>"
            ],
            "image/png": "[encoded data removed]"
          },
          "metadata": {}
        }
      ]
    },
    {
      "cell_type": "markdown",
      "source": [
        "Library"
      ],
      "metadata": {
        "id": "sD372UhsSKWJ"
      }
    },
    {
      "cell_type": "code",
      "source": [
        "!pip install -q -U keras-tuner\n",
        "\n",
        "import keras_tuner as kt\n",
        "from tensorflow.keras.layers import Embedding, Bidirectional, LSTM, Dense, Dropout\n",
        "from tensorflow.keras.models import Sequential\n"
      ],
      "metadata": {
        "colab": {
          "base_uri": "https://localhost:8080/"
        },
        "id": "xLgpVrBOSGkJ",
        "outputId": "41511f7e-fc1c-4b26-fac7-aacfa49784ce"
      },
      "execution_count": 23,
      "outputs": [
        {
          "output_type": "stream",
          "name": "stdout",
          "text": [
            "\u001b[?25l   \u001b[90m━━━━━━━━━━━━━━━━━━━━━━━━━━━━━━━━━━━━━━━━\u001b[0m \u001b[32m0.0/129.1 kB\u001b[0m \u001b[31m?\u001b[0m eta \u001b[36m-:--:--\u001b[0m\r\u001b[2K   \u001b[91m━━━━━━━━━━━━━━━━━━━━━━━━━\u001b[0m\u001b[90m╺\u001b[0m\u001b[90m━━━━━━━━━━━━━━\u001b[0m \u001b[32m81.9/129.1 kB\u001b[0m \u001b[31m3.2 MB/s\u001b[0m eta \u001b[36m0:00:01\u001b[0m\r\u001b[2K   \u001b[90m━━━━━━━━━━━━━━━━━━━━━━━━━━━━━━━━━━━━━━━━\u001b[0m \u001b[32m129.1/129.1 kB\u001b[0m \u001b[31m2.5 MB/s\u001b[0m eta \u001b[36m0:00:00\u001b[0m\n",
            "\u001b[?25h"
          ]
        }
      ]
    },
    {
      "cell_type": "markdown",
      "source": [
        "Buat Function Model untuk Tuning"
      ],
      "metadata": {
        "id": "V08onPj4R7yJ"
      }
    },
    {
      "cell_type": "code",
      "source": [
        "def build_model(hp):\n",
        "    model = Sequential()\n",
        "    model.add(Embedding(\n",
        "        input_dim=num_words,\n",
        "        output_dim=hp.Choice('embedding_dim', [64, 128, 256]),\n",
        "        input_length=maxlen\n",
        "    ))\n",
        "    model.add(Bidirectional(LSTM(\n",
        "        units=hp.Int('lstm_units', min_value=32, max_value=128, step=32),\n",
        "        return_sequences=False\n",
        "    )))\n",
        "    model.add(Dropout(hp.Float('dropout_rate', min_value=0.3, max_value=0.7, step=0.1)))\n",
        "    model.add(Dense(\n",
        "        units=hp.Int('dense_units', min_value=32, max_value=128, step=32),\n",
        "        activation='relu'\n",
        "    ))\n",
        "    model.add(Dropout(hp.Float('dropout_rate2', min_value=0.3, max_value=0.7, step=0.1)))\n",
        "    model.add(Dense(1, activation='sigmoid'))\n",
        "\n",
        "    model.compile(\n",
        "        optimizer=hp.Choice('optimizer', ['adam', 'rmsprop']),\n",
        "        loss='binary_crossentropy',\n",
        "        metrics=['accuracy']\n",
        "    )\n",
        "    return model\n"
      ],
      "metadata": {
        "id": "RU2QuoMRR8XB"
      },
      "execution_count": 24,
      "outputs": []
    },
    {
      "cell_type": "markdown",
      "source": [
        "Inisialisasi Tuner dan Jalankan Tuning"
      ],
      "metadata": {
        "id": "uv_ZNdp3R_vp"
      }
    },
    {
      "cell_type": "code",
      "source": [
        "tuner = kt.RandomSearch(\n",
        "    build_model,\n",
        "    objective='val_accuracy',\n",
        "    max_trials=5,\n",
        "    executions_per_trial=1,\n",
        "    directory='tuning_dir',\n",
        "    project_name='birnn_review_toko_baju'\n",
        ")\n",
        "\n",
        "tuner.search_space_summary()\n",
        "\n",
        "early_stop = EarlyStopping(monitor='val_loss', patience=3)\n",
        "\n",
        "tuner.search(\n",
        "    X2_train, y2_train,\n",
        "    epochs=10,\n",
        "    validation_split=0.2,\n",
        "    callbacks=[early_stop],\n",
        "    batch_size=64\n",
        ")\n"
      ],
      "metadata": {
        "colab": {
          "base_uri": "https://localhost:8080/"
        },
        "id": "huOsKd4DSAMC",
        "outputId": "43e508a7-2147-4ad6-8626-aef2ede447f7"
      },
      "execution_count": 25,
      "outputs": [
        {
          "output_type": "stream",
          "name": "stdout",
          "text": [
            "Trial 5 Complete [00h 26m 23s]\n",
            "val_accuracy: 0.8973226547241211\n",
            "\n",
            "Best val_accuracy So Far: 0.8987027406692505\n",
            "Total elapsed time: 03h 22m 19s\n"
          ]
        }
      ]
    },
    {
      "cell_type": "markdown",
      "source": [
        "Evaluasi Model Terbaik"
      ],
      "metadata": {
        "id": "hMs3t5om-8n-"
      }
    },
    {
      "cell_type": "code",
      "source": [
        "# Ambil model terbaik\n",
        "best_model = tuner.get_best_models(num_models=1)[0]\n",
        "best_hps = tuner.get_best_hyperparameters(num_trials=1)[0]\n",
        "\n",
        "# Lanjutkan training jika perlu\n",
        "history_best = best_model.fit(\n",
        "    X2_train, y2_train,\n",
        "    validation_data=(X2_test, y2_test),\n",
        "    epochs=10,\n",
        "    batch_size=64,\n",
        "    callbacks=[early_stop]\n",
        ")\n",
        "\n",
        "# Evaluasi\n",
        "y_pred_prob_best = best_model.predict(X2_test)\n",
        "y_pred_best = (y_pred_prob_best >= 0.5).astype(int).flatten()\n",
        "\n",
        "acc = accuracy_score(y2_test, y_pred_best)\n",
        "prec = precision_score(y2_test, y_pred_best)\n",
        "rec = recall_score(y2_test, y_pred_best)\n",
        "f1 = f1_score(y2_test, y_pred_best)\n",
        "auc = roc_auc_score(y2_test, y_pred_prob_best)\n",
        "\n",
        "print(f\"Best Accuracy: {acc:.4f}\")\n",
        "print(f\"Best Precision: {prec:.4f}\")\n",
        "print(f\"Best Recall: {rec:.4f}\")\n",
        "print(f\"Best F1 Score: {f1:.4f}\")\n",
        "print(f\"Best AUC: {auc:.4f}\")\n"
      ],
      "metadata": {
        "colab": {
          "base_uri": "https://localhost:8080/"
        },
        "id": "c5gruKAe-9ZW",
        "outputId": "7f5eb5b0-3f9b-42e3-a4ef-68661c1bd395"
      },
      "execution_count": null,
      "outputs": [
        {
          "output_type": "stream",
          "name": "stdout",
          "text": [
            "Epoch 1/10\n",
            "\u001b[1m283/283\u001b[0m \u001b[32m━━━━━━━━━━━━━━━━━━━━\u001b[0m\u001b[37m\u001b[0m \u001b[1m760s\u001b[0m 3s/step - accuracy: 0.9037 - loss: 0.2414 - val_accuracy: 0.8914 - val_loss: 0.2569\n",
            "Epoch 2/10\n",
            "\u001b[1m283/283\u001b[0m \u001b[32m━━━━━━━━━━━━━━━━━━━━\u001b[0m\u001b[37m\u001b[0m \u001b[1m797s\u001b[0m 3s/step - accuracy: 0.9101 - loss: 0.2170 - val_accuracy: 0.8885 - val_loss: 0.2524\n",
            "Epoch 3/10\n",
            "\u001b[1m283/283\u001b[0m \u001b[32m━━━━━━━━━━━━━━━━━━━━\u001b[0m\u001b[37m\u001b[0m \u001b[1m755s\u001b[0m 3s/step - accuracy: 0.9173 - loss: 0.1978 - val_accuracy: 0.8037 - val_loss: 0.4276\n",
            "Epoch 4/10\n",
            "\u001b[1m283/283\u001b[0m \u001b[32m━━━━━━━━━━━━━━━━━━━━\u001b[0m\u001b[37m\u001b[0m \u001b[1m804s\u001b[0m 3s/step - accuracy: 0.9212 - loss: 0.1919 - val_accuracy: 0.8918 - val_loss: 0.2637\n",
            "Epoch 5/10\n",
            "\u001b[1m283/283\u001b[0m \u001b[32m━━━━━━━━━━━━━━━━━━━━\u001b[0m\u001b[37m\u001b[0m \u001b[1m0s\u001b[0m 2s/step - accuracy: 0.9328 - loss: 0.1821"
          ]
        }
      ]
    },
    {
      "cell_type": "code",
      "source": [
        "# Ambil best hyperparameters\n",
        "best_hps = tuner.get_best_hyperparameters(num_trials=1)[0]\n",
        "best_model = tuner.get_best_models(num_models=1)[0]\n",
        "\n",
        "# Evaluasi ulang pada validation data\n",
        "loss, best_accuracy = best_model.evaluate(X2_test, y2_test, verbose=0)\n",
        "\n",
        "print(\"=== Best Configuration ===\")\n",
        "print(f\"Best Validation Accuracy: {best_accuracy:.4f}\")\n",
        "print(f\"Embedding Dim: {best_hps.get('embedding_dim')}\")\n",
        "print(f\"Dense Units: {best_hps.get('dense_units')}\")\n",
        "print(f\"Dropout 1: {best_hps.get('dropout_rate')}\")\n",
        "print(f\"Dropout 2: {best_hps.get('dropout_rate2')}\")\n",
        "print(f\"Optimizer: {best_hps.get('optimizer')}\")\n"
      ],
      "metadata": {
        "id": "rp6iQ-ttSuKf",
        "outputId": "5300f61a-36bc-4dec-837f-059e7eb4f4a2",
        "colab": {
          "base_uri": "https://localhost:8080/"
        }
      },
      "execution_count": 27,
      "outputs": [
        {
          "output_type": "stream",
          "name": "stdout",
          "text": [
            "=== Best Configuration ===\n",
            "Best Validation Accuracy: 0.8881\n",
            "Embedding Dim: 256\n",
            "Dense Units: 64\n",
            "Dropout 1: 0.5\n",
            "Dropout 2: 0.4\n",
            "Optimizer: rmsprop\n"
          ]
        }
      ]
    }
  ]
}