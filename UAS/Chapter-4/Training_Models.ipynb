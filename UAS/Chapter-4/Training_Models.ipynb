{
  "nbformat": 4,
  "nbformat_minor": 0,
  "metadata": {
    "colab": {
      "provenance": [],
      "authorship_tag": "ABX9TyO/224XoeDRRz52uD0fUzhR",
      "include_colab_link": true
    },
    "kernelspec": {
      "name": "python3",
      "display_name": "Python 3"
    },
    "language_info": {
      "name": "python"
    }
  },
  "cells": [
    {
      "cell_type": "markdown",
      "metadata": {
        "id": "view-in-github",
        "colab_type": "text"
      },
      "source": [
        "<a href=\"https://colab.research.google.com/github/Marcellinus08/Deep-Learning/blob/main/Training_Models.ipynb\" target=\"_parent\"><img src=\"https://colab.research.google.com/assets/colab-badge.svg\" alt=\"Open In Colab\"/></a>"
      ]
    },
    {
      "cell_type": "markdown",
      "source": [
        "Linear Regression"
      ],
      "metadata": {
        "id": "OlspXq0wQEOx"
      }
    },
    {
      "cell_type": "code",
      "execution_count": 1,
      "metadata": {
        "colab": {
          "base_uri": "https://localhost:8080/"
        },
        "id": "eWzSnJC8P48r",
        "outputId": "df86a189-4802-4d58-daca-c1f8102b6d1f"
      },
      "outputs": [
        {
          "output_type": "stream",
          "name": "stdout",
          "text": [
            "Intercept: [3.74358696], Coef: [[3.2382287]]\n"
          ]
        }
      ],
      "source": [
        "import numpy as np\n",
        "import matplotlib.pyplot as plt\n",
        "from sklearn.linear_model import LinearRegression\n",
        "\n",
        "X = 2 * np.random.rand(100, 1)\n",
        "y = 4 + 3 * X + np.random.randn(100, 1)\n",
        "\n",
        "lin_reg = LinearRegression()\n",
        "lin_reg.fit(X, y)\n",
        "\n",
        "print(f\"Intercept: {lin_reg.intercept_}, Coef: {lin_reg.coef_}\")"
      ]
    },
    {
      "cell_type": "markdown",
      "source": [
        "Gradient Descent Manual"
      ],
      "metadata": {
        "id": "gJSU4BQxQN-i"
      }
    },
    {
      "cell_type": "code",
      "source": [
        "eta = 0.1  # Learning rate\n",
        "n_iterations = 1000\n",
        "m = 100\n",
        "theta = np.random.randn(2,1)  # Inisialisasi acak parameter\n",
        "\n",
        "X_b = np.c_[np.ones((m,1)), X]\n",
        "\n",
        "for iteration in range(n_iterations):\n",
        "    gradients = 2/m * X_b.T.dot(X_b.dot(theta) - y)\n",
        "    theta = theta - eta * gradients\n",
        "\n",
        "print(\"Theta from Gradient Descent:\", theta)"
      ],
      "metadata": {
        "colab": {
          "base_uri": "https://localhost:8080/"
        },
        "id": "QNIFwdo7QOg2",
        "outputId": "954279c1-9147-4712-873f-d604f86f12c4"
      },
      "execution_count": 2,
      "outputs": [
        {
          "output_type": "stream",
          "name": "stdout",
          "text": [
            "Theta from Gradient Descent: [[3.74358696]\n",
            " [3.2382287 ]]\n"
          ]
        }
      ]
    },
    {
      "cell_type": "markdown",
      "source": [
        "Polynomial Regression"
      ],
      "metadata": {
        "id": "P5iSCaPcQV1e"
      }
    },
    {
      "cell_type": "code",
      "source": [
        "from sklearn.preprocessing import PolynomialFeatures\n",
        "from sklearn.pipeline import Pipeline\n",
        "from sklearn.linear_model import LinearRegression\n",
        "\n",
        "poly_reg = Pipeline([\n",
        "    (\"poly_features\", PolynomialFeatures(degree=2, include_bias=False)),\n",
        "    (\"lin_reg\", LinearRegression())\n",
        "])\n",
        "poly_reg.fit(X, y)\n",
        "\n",
        "print(\"Polynomial Prediction (x=1.5):\", poly_reg.predict([[1.5]]))"
      ],
      "metadata": {
        "colab": {
          "base_uri": "https://localhost:8080/"
        },
        "id": "0BHwLCh8QWKH",
        "outputId": "b20ab28d-690f-4aa2-db51-1c34801d4b07"
      },
      "execution_count": 3,
      "outputs": [
        {
          "output_type": "stream",
          "name": "stdout",
          "text": [
            "Polynomial Prediction (x=1.5): [[8.63284408]]\n"
          ]
        }
      ]
    },
    {
      "cell_type": "markdown",
      "source": [
        "Plot Learning Curves"
      ],
      "metadata": {
        "id": "xkHuNgGlQa8B"
      }
    },
    {
      "cell_type": "code",
      "source": [
        "from sklearn.metrics import mean_squared_error\n",
        "from sklearn.model_selection import train_test_split\n",
        "\n",
        "def plot_learning_curves(model, X, y):\n",
        "    X_train, X_val, y_train, y_val = train_test_split(X, y, test_size=0.2)\n",
        "    train_errors, val_errors = [], []\n",
        "    for m in range(1, len(X_train)):\n",
        "        model.fit(X_train[:m], y_train[:m])\n",
        "        y_train_predict = model.predict(X_train[:m])\n",
        "        y_val_predict = model.predict(X_val)\n",
        "        train_errors.append(mean_squared_error(y_train[:m], y_train_predict))\n",
        "        val_errors.append(mean_squared_error(y_val, y_val_predict))\n",
        "    plt.plot(np.sqrt(train_errors), \"r-+\", label=\"Train\")\n",
        "    plt.plot(np.sqrt(val_errors), \"b-\", label=\"Validation\")\n",
        "    plt.legend()\n",
        "    plt.grid()\n",
        "    plt.ylabel(\"RMSE\")\n",
        "    plt.xlabel(\"Training set size\")\n",
        "    plt.title(\"Learning Curves\")\n",
        "\n",
        "plot_learning_curves(LinearRegression(), X, y)"
      ],
      "metadata": {
        "colab": {
          "base_uri": "https://localhost:8080/",
          "height": 472
        },
        "id": "oCpTOLigQbWr",
        "outputId": "41555413-e28c-4237-bd3f-1868d58667d1"
      },
      "execution_count": 4,
      "outputs": [
        {
          "output_type": "display_data",
          "data": {
            "text/plain": [
              "<Figure size 640x480 with 1 Axes>"
            ],
            "image/png": "[encoded data removed]"
          },
          "metadata": {}
        }
      ]
    },
    {
      "cell_type": "markdown",
      "source": [
        "Ridge Regression"
      ],
      "metadata": {
        "id": "5JMaiHqLQfbj"
      }
    },
    {
      "cell_type": "code",
      "source": [
        "from sklearn.linear_model import Ridge\n",
        "\n",
        "ridge_reg = Ridge(alpha=1, solver=\"cholesky\")\n",
        "ridge_reg.fit(X, y)\n",
        "\n",
        "print(\"Ridge Prediction (x=1.5):\", ridge_reg.predict([[1.5]]))"
      ],
      "metadata": {
        "colab": {
          "base_uri": "https://localhost:8080/"
        },
        "id": "5ASUcP3rQile",
        "outputId": "fb832c54-e4fc-4031-dc14-b9e8b93bc7da"
      },
      "execution_count": 5,
      "outputs": [
        {
          "output_type": "stream",
          "name": "stdout",
          "text": [
            "Ridge Prediction (x=1.5): [8.55335999]\n"
          ]
        }
      ]
    },
    {
      "cell_type": "markdown",
      "source": [
        "Lasso Regression"
      ],
      "metadata": {
        "id": "DS7KIoWyQlEB"
      }
    },
    {
      "cell_type": "code",
      "source": [
        "from sklearn.linear_model import Lasso\n",
        "\n",
        "lasso_reg = Lasso(alpha=0.1)\n",
        "lasso_reg.fit(X, y)\n",
        "\n",
        "print(\"Lasso Prediction (x=1.5):\", lasso_reg.predict([[1.5]]))"
      ],
      "metadata": {
        "colab": {
          "base_uri": "https://localhost:8080/"
        },
        "id": "hM48HJtvQljQ",
        "outputId": "5ec05420-f8c7-457b-f24f-066d62a22a31"
      },
      "execution_count": 6,
      "outputs": [
        {
          "output_type": "stream",
          "name": "stdout",
          "text": [
            "Lasso Prediction (x=1.5): [8.44976502]\n"
          ]
        }
      ]
    },
    {
      "cell_type": "markdown",
      "source": [
        "Elastic Net"
      ],
      "metadata": {
        "id": "f3akN5XLQoeB"
      }
    },
    {
      "cell_type": "code",
      "source": [
        "from sklearn.linear_model import ElasticNet\n",
        "\n",
        "elastic_net = ElasticNet(alpha=0.1, l1_ratio=0.5)\n",
        "elastic_net.fit(X, y)\n",
        "\n",
        "print(\"ElasticNet Prediction (x=1.5):\", elastic_net.predict([[1.5]]))"
      ],
      "metadata": {
        "colab": {
          "base_uri": "https://localhost:8080/"
        },
        "id": "KUIEBuc8Qo4y",
        "outputId": "e1120410-fdde-4a8a-b6ff-b365052770af"
      },
      "execution_count": 7,
      "outputs": [
        {
          "output_type": "stream",
          "name": "stdout",
          "text": [
            "ElasticNet Prediction (x=1.5): [8.32118956]\n"
          ]
        }
      ]
    },
    {
      "cell_type": "markdown",
      "source": [
        "Early Stopping dengan SGD"
      ],
      "metadata": {
        "id": "9h7P9d1mQtZK"
      }
    },
    {
      "cell_type": "code",
      "source": [
        "from sklearn.linear_model import SGDRegressor\n",
        "\n",
        "sgd_reg = SGDRegressor(penalty=None, eta0=0.1, max_iter=1000)\n",
        "sgd_reg.fit(X, y.ravel())\n",
        "\n",
        "print(\"SGD Prediction (x=1.5):\", sgd_reg.predict([[1.5]]))"
      ],
      "metadata": {
        "colab": {
          "base_uri": "https://localhost:8080/"
        },
        "id": "K63AcW5iQt2b",
        "outputId": "fa9ad377-7b26-4670-ff5d-f0f4ec021415"
      },
      "execution_count": 8,
      "outputs": [
        {
          "output_type": "stream",
          "name": "stdout",
          "text": [
            "SGD Prediction (x=1.5): [8.5126239]\n"
          ]
        }
      ]
    }
  ]
}
