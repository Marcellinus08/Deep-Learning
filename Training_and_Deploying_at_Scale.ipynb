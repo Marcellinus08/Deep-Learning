{
  "nbformat": 4,
  "nbformat_minor": 0,
  "metadata": {
    "colab": {
      "provenance": [],
      "gpuType": "T4",
      "authorship_tag": "ABX9TyMBOULkko3VfQLnvbatZ3a2",
      "include_colab_link": true
    },
    "kernelspec": {
      "name": "python3",
      "display_name": "Python 3"
    },
    "language_info": {
      "name": "python"
    },
    "accelerator": "GPU"
  },
  "cells": [
    {
      "cell_type": "markdown",
      "metadata": {
        "id": "view-in-github",
        "colab_type": "text"
      },
      "source": [
        "<a href=\"https://colab.research.google.com/github/Marcellinus08/Deep-Learning/blob/main/Training_and_Deploying_at_Scale.ipynb\" target=\"_parent\"><img src=\"https://colab.research.google.com/assets/colab-badge.svg\" alt=\"Open In Colab\"/></a>"
      ]
    },
    {
      "cell_type": "markdown",
      "source": [
        "Import Library"
      ],
      "metadata": {
        "id": "YKgB3-CWaAoF"
      }
    },
    {
      "cell_type": "code",
      "execution_count": 1,
      "metadata": {
        "id": "LFkaQIkYZrAo"
      },
      "outputs": [],
      "source": [
        "import tensorflow as tf\n",
        "from tensorflow import keras\n",
        "import numpy as np\n",
        "import os\n",
        "import json\n",
        "import requests\n",
        "import time\n",
        "import pandas as pd\n",
        "import matplotlib.pyplot as plt"
      ]
    },
    {
      "cell_type": "markdown",
      "source": [
        "Checking GPU"
      ],
      "metadata": {
        "id": "NDd-WvihaGLC"
      }
    },
    {
      "cell_type": "code",
      "source": [
        "gpus = tf.config.experimental.list_physical_devices('GPU')\n",
        "if gpus:\n",
        "  try:\n",
        "    print(\"Disabling virtual GPU configuration...\")\n",
        "    tf.config.experimental.set_visible_devices([], 'GPU') # Disable virtual devices\n",
        "    physical_gpus = tf.config.experimental.list_physical_devices('GPU')\n",
        "    logical_gpus = tf.config.experimental.list_logical_devices('GPU')\n",
        "    print(f\"Physical GPUs: {len(physical_gpus)}, Logical GPUs: {len(logical_gpus)}\")\n",
        "  except RuntimeError as e:\n",
        "    print(\"Error:\", e)\n",
        "else:\n",
        "    print(\"No GPU found.\")\n",
        ""
      ],
      "metadata": {
        "colab": {
          "base_uri": "https://localhost:8080/"
        },
        "id": "SBGsn_wKZsNr",
        "outputId": "13a517fa-d2af-4543-ab93-c1c9b7ae76c4"
      },
      "execution_count": 2,
      "outputs": [
        {
          "output_type": "stream",
          "name": "stdout",
          "text": [
            "Disabling virtual GPU configuration...\n",
            "Physical GPUs: 1, Logical GPUs: 0\n"
          ]
        }
      ]
    },
    {
      "cell_type": "markdown",
      "source": [
        "Data Preparation"
      ],
      "metadata": {
        "id": "30n8viY3aN7Y"
      }
    },
    {
      "cell_type": "code",
      "source": [
        "(X_train_full, y_train_full), (X_test, y_test) = keras.datasets.mnist.load_data()\n",
        "X_train_full = X_train_full[..., np.newaxis].astype(np.float32) / 255.\n",
        "X_test = X_test[..., np.newaxis].astype(np.float32) / 255.\n",
        "X_valid, X_train = X_train_full[:5000], X_train_full[5000:]\n",
        "y_valid, y_train = y_train_full[:5000], y_train_full[5000:]\n",
        ""
      ],
      "metadata": {
        "colab": {
          "base_uri": "https://localhost:8080/"
        },
        "id": "7Nz5RgRoaOet",
        "outputId": "70ee992d-ffc7-4eb1-a806-0d78d2cb9942"
      },
      "execution_count": 3,
      "outputs": [
        {
          "output_type": "stream",
          "name": "stdout",
          "text": [
            "Downloading data from https://storage.googleapis.com/tensorflow/tf-keras-datasets/mnist.npz\n",
            "\u001b[1m11490434/11490434\u001b[0m \u001b[32m━━━━━━━━━━━━━━━━━━━━\u001b[0m\u001b[37m\u001b[0m \u001b[1m2s\u001b[0m 0us/step\n"
          ]
        }
      ]
    },
    {
      "cell_type": "markdown",
      "source": [
        "Build and Training Base Model"
      ],
      "metadata": {
        "id": "kjuInThVaUfq"
      }
    },
    {
      "cell_type": "code",
      "source": [
        "with tf.device('/CPU:0'):\n",
        "    model = keras.models.Sequential([\n",
        "        keras.layers.Flatten(input_shape=[28, 28, 1]),\n",
        "        keras.layers.Dense(100, activation=\"relu\"),\n",
        "        keras.layers.Dense(10, activation=\"softmax\")\n",
        "    ])\n",
        "    model.compile(loss=\"sparse_categorical_crossentropy\",\n",
        "                  optimizer=keras.optimizers.SGD(learning_rate=1e-2),\n",
        "                  metrics=[\"accuracy\"])\n",
        "    model.fit(X_train, y_train, epochs=5, validation_data=(X_valid, y_valid), verbose=1)\n",
        ""
      ],
      "metadata": {
        "colab": {
          "base_uri": "https://localhost:8080/"
        },
        "id": "OqqtZwIPaWfq",
        "outputId": "cf2508ce-1c3a-4b9f-c5f6-949071f0b518"
      },
      "execution_count": 4,
      "outputs": [
        {
          "output_type": "stream",
          "name": "stderr",
          "text": [
            "/usr/local/lib/python3.11/dist-packages/keras/src/layers/reshaping/flatten.py:37: UserWarning: Do not pass an `input_shape`/`input_dim` argument to a layer. When using Sequential models, prefer using an `Input(shape)` object as the first layer in the model instead.\n",
            "  super().__init__(**kwargs)\n"
          ]
        },
        {
          "output_type": "stream",
          "name": "stdout",
          "text": [
            "Epoch 1/5\n",
            "\u001b[1m1719/1719\u001b[0m \u001b[32m━━━━━━━━━━━━━━━━━━━━\u001b[0m\u001b[37m\u001b[0m \u001b[1m7s\u001b[0m 3ms/step - accuracy: 0.7054 - loss: 1.1003 - val_accuracy: 0.8986 - val_loss: 0.3721\n",
            "Epoch 2/5\n",
            "\u001b[1m1719/1719\u001b[0m \u001b[32m━━━━━━━━━━━━━━━━━━━━\u001b[0m\u001b[37m\u001b[0m \u001b[1m4s\u001b[0m 2ms/step - accuracy: 0.8992 - loss: 0.3684 - val_accuracy: 0.9166 - val_loss: 0.3041\n",
            "Epoch 3/5\n",
            "\u001b[1m1719/1719\u001b[0m \u001b[32m━━━━━━━━━━━━━━━━━━━━\u001b[0m\u001b[37m\u001b[0m \u001b[1m6s\u001b[0m 2ms/step - accuracy: 0.9129 - loss: 0.3095 - val_accuracy: 0.9236 - val_loss: 0.2679\n",
            "Epoch 4/5\n",
            "\u001b[1m1719/1719\u001b[0m \u001b[32m━━━━━━━━━━━━━━━━━━━━\u001b[0m\u001b[37m\u001b[0m \u001b[1m4s\u001b[0m 2ms/step - accuracy: 0.9221 - loss: 0.2803 - val_accuracy: 0.9300 - val_loss: 0.2477\n",
            "Epoch 5/5\n",
            "\u001b[1m1719/1719\u001b[0m \u001b[32m━━━━━━━━━━━━━━━━━━━━\u001b[0m\u001b[37m\u001b[0m \u001b[1m4s\u001b[0m 2ms/step - accuracy: 0.9298 - loss: 0.2553 - val_accuracy: 0.9336 - val_loss: 0.2287\n"
          ]
        }
      ]
    },
    {
      "cell_type": "markdown",
      "source": [
        "Save Model"
      ],
      "metadata": {
        "id": "8zUYh_KvaYTs"
      }
    },
    {
      "cell_type": "code",
      "source": [
        "model_name = \"my_mnist_model\"\n",
        "model_version = \"0001\"\n",
        "model_dir = os.path.join(\"/content/\", model_name, model_version)\n",
        "print(f\"\\nMenyimpan model ke direktori: {model_dir}\")\n",
        "model.export(model_dir)\n",
        "\n",
        "print(\"\\nStruktur direktori SavedModel:\")\n",
        "!ls -lR {os.path.join(\"/content/\", model_name)}"
      ],
      "metadata": {
        "colab": {
          "base_uri": "https://localhost:8080/"
        },
        "id": "hBee2Xd8abVX",
        "outputId": "111f2195-70bf-4385-af1b-db78abaf6e99"
      },
      "execution_count": 5,
      "outputs": [
        {
          "output_type": "stream",
          "name": "stdout",
          "text": [
            "\n",
            "Menyimpan model ke direktori: /content/my_mnist_model/0001\n",
            "Saved artifact at '/content/my_mnist_model/0001'. The following endpoints are available:\n",
            "\n",
            "* Endpoint 'serve'\n",
            "  args_0 (POSITIONAL_ONLY): TensorSpec(shape=(None, 28, 28, 1), dtype=tf.float32, name='keras_tensor')\n",
            "Output Type:\n",
            "  TensorSpec(shape=(None, 10), dtype=tf.float32, name=None)\n",
            "Captures:\n",
            "  140417931749008: TensorSpec(shape=(), dtype=tf.resource, name=None)\n",
            "  140417931749968: TensorSpec(shape=(), dtype=tf.resource, name=None)\n",
            "  140417931749392: TensorSpec(shape=(), dtype=tf.resource, name=None)\n",
            "  140417931749776: TensorSpec(shape=(), dtype=tf.resource, name=None)\n",
            "\n",
            "Struktur direktori SavedModel:\n",
            "/content/my_mnist_model:\n",
            "total 4\n",
            "drwxr-xr-x 4 root root 4096 Jun 17 15:04 0001\n",
            "\n",
            "/content/my_mnist_model/0001:\n",
            "total 48\n",
            "drwxr-xr-x 2 root root  4096 Jun 17 15:04 assets\n",
            "-rw-r--r-- 1 root root    58 Jun 17 15:04 fingerprint.pb\n",
            "-rw-r--r-- 1 root root 33571 Jun 17 15:04 saved_model.pb\n",
            "drwxr-xr-x 2 root root  4096 Jun 17 15:04 variables\n",
            "\n",
            "/content/my_mnist_model/0001/assets:\n",
            "total 0\n",
            "\n",
            "/content/my_mnist_model/0001/variables:\n",
            "total 628\n",
            "-rw-r--r-- 1 root root 637134 Jun 17 15:04 variables.data-00000-of-00001\n",
            "-rw-r--r-- 1 root root    596 Jun 17 15:04 variables.index\n"
          ]
        }
      ]
    },
    {
      "cell_type": "markdown",
      "source": [
        "TensorFlow Serving"
      ],
      "metadata": {
        "id": "e3ysBjYoafaB"
      }
    },
    {
      "cell_type": "code",
      "source": [
        "!echo \"deb http://storage.googleapis.com/tensorflow-serving-apt stable tensorflow-model-server tensorflow-model-server-universal\" | tee /etc/apt/sources.list.d/tensorflow-serving.list && \\\n",
        "curl https://storage.googleapis.com/tensorflow-serving-apt/tensorflow-serving.release.pub.gpg | apt-key add -\n",
        "!apt update\n",
        "!apt-get install tensorflow-model-server\n",
        ""
      ],
      "metadata": {
        "colab": {
          "base_uri": "https://localhost:8080/"
        },
        "id": "ub-ZSioxahXV",
        "outputId": "01e2fad7-5c3a-4e95-9ecb-525982efc2fe"
      },
      "execution_count": 6,
      "outputs": [
        {
          "output_type": "stream",
          "name": "stdout",
          "text": [
            "deb http://storage.googleapis.com/tensorflow-serving-apt stable tensorflow-model-server tensorflow-model-server-universal\n",
            "  % Total    % Received % Xferd  Average Speed   Time    Time     Time  Current\n",
            "                                 Dload  Upload   Total   Spent    Left  Speed\n",
            "  0     0    0     0    0     0      0      0 --:--:-- --:--:-- --:--:--     0Warning: apt-key is deprecated. Manage keyring files in trusted.gpg.d instead (see apt-key(8)).\n",
            "100  2943  100  2943    0     0   7758      0 --:--:-- --:--:-- --:--:--  7744\n",
            "OK\n",
            "Get:1 https://cloud.r-project.org/bin/linux/ubuntu jammy-cran40/ InRelease [3,632 B]\n",
            "Get:2 https://developer.download.nvidia.com/compute/cuda/repos/ubuntu2204/x86_64  InRelease [1,581 B]\n",
            "Get:3 https://cloud.r-project.org/bin/linux/ubuntu jammy-cran40/ Packages [79.8 kB]\n",
            "Get:4 https://developer.download.nvidia.com/compute/cuda/repos/ubuntu2204/x86_64  Packages [1,778 kB]\n",
            "Get:5 http://storage.googleapis.com/tensorflow-serving-apt stable InRelease [3,026 B]\n",
            "Get:6 http://security.ubuntu.com/ubuntu jammy-security InRelease [129 kB]\n",
            "Hit:7 http://archive.ubuntu.com/ubuntu jammy InRelease\n",
            "Get:8 http://archive.ubuntu.com/ubuntu jammy-updates InRelease [128 kB]\n",
            "Get:9 https://r2u.stat.illinois.edu/ubuntu jammy InRelease [6,555 B]\n",
            "Hit:10 https://ppa.launchpadcontent.net/deadsnakes/ppa/ubuntu jammy InRelease\n",
            "Hit:11 https://ppa.launchpadcontent.net/graphics-drivers/ppa/ubuntu jammy InRelease\n",
            "Get:12 https://r2u.stat.illinois.edu/ubuntu jammy/main all Packages [9,040 kB]\n",
            "Hit:13 https://ppa.launchpadcontent.net/ubuntugis/ppa/ubuntu jammy InRelease\n",
            "Get:14 http://storage.googleapis.com/tensorflow-serving-apt stable/tensorflow-model-server-universal amd64 Packages [347 B]\n",
            "Get:15 http://security.ubuntu.com/ubuntu jammy-security/universe amd64 Packages [1,250 kB]\n",
            "Get:16 http://archive.ubuntu.com/ubuntu jammy-backports InRelease [127 kB]\n",
            "Get:17 http://storage.googleapis.com/tensorflow-serving-apt stable/tensorflow-model-server amd64 Packages [342 B]\n",
            "Get:18 http://archive.ubuntu.com/ubuntu jammy-updates/main amd64 Packages [3,296 kB]\n",
            "Get:19 http://security.ubuntu.com/ubuntu jammy-security/main amd64 Packages [2,986 kB]\n",
            "Get:20 http://archive.ubuntu.com/ubuntu jammy-updates/universe amd64 Packages [1,557 kB]\n",
            "Get:21 https://r2u.stat.illinois.edu/ubuntu jammy/main amd64 Packages [2,747 kB]\n",
            "Fetched 23.1 MB in 5s (4,965 kB/s)\n",
            "Reading package lists... Done\n",
            "Building dependency tree... Done\n",
            "Reading state information... Done\n",
            "46 packages can be upgraded. Run 'apt list --upgradable' to see them.\n",
            "\u001b[1;33mW: \u001b[0mhttp://storage.googleapis.com/tensorflow-serving-apt/dists/stable/InRelease: Key is stored in legacy trusted.gpg keyring (/etc/apt/trusted.gpg), see the DEPRECATION section in apt-key(8) for details.\u001b[0m\n",
            "\u001b[1;33mW: \u001b[0mSkipping acquire of configured file 'main/source/Sources' as repository 'https://r2u.stat.illinois.edu/ubuntu jammy InRelease' does not seem to provide it (sources.list entry misspelt?)\u001b[0m\n",
            "Reading package lists... Done\n",
            "Building dependency tree... Done\n",
            "Reading state information... Done\n",
            "The following NEW packages will be installed:\n",
            "  tensorflow-model-server\n",
            "0 upgraded, 1 newly installed, 0 to remove and 46 not upgraded.\n",
            "Need to get 649 MB of archives.\n",
            "After this operation, 0 B of additional disk space will be used.\n",
            "Get:1 http://storage.googleapis.com/tensorflow-serving-apt stable/tensorflow-model-server amd64 tensorflow-model-server all 2.19.0 [649 MB]\n",
            "Fetched 649 MB in 38s (16.9 MB/s)\n",
            "Selecting previously unselected package tensorflow-model-server.\n",
            "(Reading database ... 126111 files and directories currently installed.)\n",
            "Preparing to unpack .../tensorflow-model-server_2.19.0_all.deb ...\n",
            "Unpacking tensorflow-model-server (2.19.0) ...\n",
            "Setting up tensorflow-model-server (2.19.0) ...\n"
          ]
        }
      ]
    },
    {
      "cell_type": "code",
      "source": [
        "os.environ[\"MODEL_DIR\"] = os.path.join(\"/content/\", model_name)"
      ],
      "metadata": {
        "id": "WA0z67xzajPs"
      },
      "execution_count": 7,
      "outputs": []
    },
    {
      "cell_type": "code",
      "source": [
        "%%bash --bg\n",
        "nohup tensorflow_model_server \\\n",
        "  --rest_api_port=8501 \\\n",
        "  --model_name=my_mnist_model \\\n",
        "  --model_base_path=\"${MODEL_DIR}\" >server.log 2>&1\n",
        ""
      ],
      "metadata": {
        "id": "wrRQHP9zalrf"
      },
      "execution_count": 8,
      "outputs": []
    },
    {
      "cell_type": "code",
      "source": [
        "print(\"\\nServer TF Serving sedang dimulai di background...\")\n",
        "time.sleep(5)"
      ],
      "metadata": {
        "colab": {
          "base_uri": "https://localhost:8080/"
        },
        "id": "w47Gy8ROanDf",
        "outputId": "c63364da-e376-4054-8db5-cda602242008"
      },
      "execution_count": 9,
      "outputs": [
        {
          "output_type": "stream",
          "name": "stdout",
          "text": [
            "\n",
            "Server TF Serving sedang dimulai di background...\n"
          ]
        }
      ]
    },
    {
      "cell_type": "code",
      "source": [
        "\n",
        "X_new = X_test[:3]\n",
        "request_json = json.dumps({\n",
        "    \"signature_name\": \"serving_default\",\n",
        "    \"instances\": X_new.tolist()\n",
        "})\n",
        "SERVER_URL = \"http://localhost:8501/v1/models/my_mnist_model:predict\"\n",
        ""
      ],
      "metadata": {
        "id": "XzzFfXI-apXQ"
      },
      "execution_count": 10,
      "outputs": []
    },
    {
      "cell_type": "code",
      "source": [
        "try:\n",
        "    response = requests.post(SERVER_URL, data=request_json)\n",
        "    response.raise_for_status()\n",
        "    response_data = response.json()\n",
        "\n",
        "    print(\"Query berhasil!\")\n",
        "    y_proba = np.array(response_data[\"predictions\"])\n",
        "    y_pred = np.argmax(y_proba, axis=1)\n",
        "\n",
        "    print(f\"Prediksi dari server: {y_pred}\")\n",
        "    print(f\"Label sebenarnya:   {y_test[:3]}\")\n",
        "\n",
        "    plt.figure(figsize=(8, 4))\n",
        "    for index, image in enumerate(X_new):\n",
        "        plt.subplot(1, 3, index + 1)\n",
        "        plt.imshow(image.squeeze(), cmap=\"binary\")\n",
        "        plt.title(f\"Prediksi: {y_pred[index]}\\nAsli: {y_test[index]}\")\n",
        "        plt.axis(\"off\")\n",
        "    plt.show()\n",
        "\n",
        "except Exception as e:\n",
        "    print(f\"\\nError saat melakukan Query: {e}\")\n",
        "    print(\"\\n--- Log Server (server.log) ---\")\n",
        "    !cat server.log"
      ],
      "metadata": {
        "colab": {
          "base_uri": "https://localhost:8080/",
          "height": 314
        },
        "id": "j9SmqAI4aq5V",
        "outputId": "07c59def-6aa0-48f6-edc4-593e9ee0cbba"
      },
      "execution_count": 11,
      "outputs": [
        {
          "output_type": "stream",
          "name": "stdout",
          "text": [
            "Query berhasil!\n",
            "Prediksi dari server: [7 2 1]\n",
            "Label sebenarnya:   [7 2 1]\n"
          ]
        },
        {
          "output_type": "display_data",
          "data": {
            "text/plain": [
              "<Figure size 800x400 with 3 Axes>"
            ],
            "image/png": "[encoded data removed]"
          },
          "metadata": {}
        }
      ]
    },
    {
      "cell_type": "markdown",
      "source": [
        "Distribution Training with MirroredStrategy"
      ],
      "metadata": {
        "id": "TvpFN1Epasga"
      }
    },
    {
      "cell_type": "code",
      "source": [
        "distribution = tf.distribute.MirroredStrategy()\n",
        "with distribution.scope():\n",
        "    mirrored_model = keras.models.Sequential([\n",
        "        keras.layers.Flatten(input_shape=[28, 28, 1]),\n",
        "        keras.layers.Dense(100, activation=\"relu\"),\n",
        "        keras.layers.Dense(10)\n",
        "    ])\n",
        "    optimizer = keras.optimizers.Adam()\n",
        "    loss_function = keras.losses.SparseCategoricalCrossentropy(from_logits=True)\n",
        "    mirrored_model.compile(loss=loss_function,optimizer=optimizer,metrics=[\"accuracy\"])\n",
        "\n",
        "history_dist = mirrored_model.fit(X_train, y_train, epochs=10,validation_data=(X_valid, y_valid), verbose=1)\n",
        ""
      ],
      "metadata": {
        "colab": {
          "base_uri": "https://localhost:8080/"
        },
        "id": "54PUPEINatYE",
        "outputId": "0c588451-ca33-4e21-99f7-0f484c0fb45d"
      },
      "execution_count": 12,
      "outputs": [
        {
          "output_type": "stream",
          "name": "stderr",
          "text": [
            "/usr/local/lib/python3.11/dist-packages/keras/src/layers/reshaping/flatten.py:37: UserWarning: Do not pass an `input_shape`/`input_dim` argument to a layer. When using Sequential models, prefer using an `Input(shape)` object as the first layer in the model instead.\n",
            "  super().__init__(**kwargs)\n"
          ]
        },
        {
          "output_type": "stream",
          "name": "stdout",
          "text": [
            "Epoch 1/10\n",
            "\u001b[1m1719/1719\u001b[0m \u001b[32m━━━━━━━━━━━━━━━━━━━━\u001b[0m\u001b[37m\u001b[0m \u001b[1m8s\u001b[0m 4ms/step - accuracy: 0.8686 - loss: 0.4604 - val_accuracy: 0.9618 - val_loss: 0.1507\n",
            "Epoch 2/10\n",
            "\u001b[1m1719/1719\u001b[0m \u001b[32m━━━━━━━━━━━━━━━━━━━━\u001b[0m\u001b[37m\u001b[0m \u001b[1m9s\u001b[0m 5ms/step - accuracy: 0.9609 - loss: 0.1346 - val_accuracy: 0.9694 - val_loss: 0.1038\n",
            "Epoch 3/10\n",
            "\u001b[1m1719/1719\u001b[0m \u001b[32m━━━━━━━━━━━━━━━━━━━━\u001b[0m\u001b[37m\u001b[0m \u001b[1m5s\u001b[0m 3ms/step - accuracy: 0.9730 - loss: 0.0903 - val_accuracy: 0.9728 - val_loss: 0.0911\n",
            "Epoch 4/10\n",
            "\u001b[1m1719/1719\u001b[0m \u001b[32m━━━━━━━━━━━━━━━━━━━━\u001b[0m\u001b[37m\u001b[0m \u001b[1m13s\u001b[0m 5ms/step - accuracy: 0.9812 - loss: 0.0652 - val_accuracy: 0.9742 - val_loss: 0.0871\n",
            "Epoch 5/10\n",
            "\u001b[1m1719/1719\u001b[0m \u001b[32m━━━━━━━━━━━━━━━━━━━━\u001b[0m\u001b[37m\u001b[0m \u001b[1m7s\u001b[0m 3ms/step - accuracy: 0.9851 - loss: 0.0525 - val_accuracy: 0.9758 - val_loss: 0.0760\n",
            "Epoch 6/10\n",
            "\u001b[1m1719/1719\u001b[0m \u001b[32m━━━━━━━━━━━━━━━━━━━━\u001b[0m\u001b[37m\u001b[0m \u001b[1m12s\u001b[0m 4ms/step - accuracy: 0.9873 - loss: 0.0406 - val_accuracy: 0.9790 - val_loss: 0.0733\n",
            "Epoch 7/10\n",
            "\u001b[1m1719/1719\u001b[0m \u001b[32m━━━━━━━━━━━━━━━━━━━━\u001b[0m\u001b[37m\u001b[0m \u001b[1m5s\u001b[0m 3ms/step - accuracy: 0.9915 - loss: 0.0303 - val_accuracy: 0.9766 - val_loss: 0.0701\n",
            "Epoch 8/10\n",
            "\u001b[1m1719/1719\u001b[0m \u001b[32m━━━━━━━━━━━━━━━━━━━━\u001b[0m\u001b[37m\u001b[0m \u001b[1m8s\u001b[0m 5ms/step - accuracy: 0.9927 - loss: 0.0258 - val_accuracy: 0.9814 - val_loss: 0.0702\n",
            "Epoch 9/10\n",
            "\u001b[1m1719/1719\u001b[0m \u001b[32m━━━━━━━━━━━━━━━━━━━━\u001b[0m\u001b[37m\u001b[0m \u001b[1m7s\u001b[0m 3ms/step - accuracy: 0.9943 - loss: 0.0196 - val_accuracy: 0.9742 - val_loss: 0.0812\n",
            "Epoch 10/10\n",
            "\u001b[1m1719/1719\u001b[0m \u001b[32m━━━━━━━━━━━━━━━━━━━━\u001b[0m\u001b[37m\u001b[0m \u001b[1m13s\u001b[0m 5ms/step - accuracy: 0.9948 - loss: 0.0178 - val_accuracy: 0.9766 - val_loss: 0.0814\n"
          ]
        }
      ]
    },
    {
      "cell_type": "markdown",
      "source": [
        "Evaluate"
      ],
      "metadata": {
        "id": "nz6ccc1kaxAr"
      }
    },
    {
      "cell_type": "code",
      "source": [
        "print(\"\\nEvaluasi akhir model:\")\n",
        "loss, accuracy = mirrored_model.evaluate(X_test, y_test)\n",
        "print(f\"Loss Test: {loss:.4f}, Akurasi Test: {accuracy:.4f}\")\n",
        ""
      ],
      "metadata": {
        "colab": {
          "base_uri": "https://localhost:8080/"
        },
        "id": "WvDrW72oayKe",
        "outputId": "48be0ea5-48d4-45af-ed1c-7fa8703da067"
      },
      "execution_count": 13,
      "outputs": [
        {
          "output_type": "stream",
          "name": "stdout",
          "text": [
            "\n",
            "Evaluasi akhir model:\n",
            "\u001b[1m313/313\u001b[0m \u001b[32m━━━━━━━━━━━━━━━━━━━━\u001b[0m\u001b[37m\u001b[0m \u001b[1m1s\u001b[0m 2ms/step - accuracy: 0.9725 - loss: 0.1051\n",
            "Loss Test: 0.0864, Akurasi Test: 0.9759\n"
          ]
        }
      ]
    },
    {
      "cell_type": "code",
      "source": [
        "pd.DataFrame(history_dist.history).plot(figsize=(8, 5))\n",
        "plt.grid(True)\n",
        "plt.gca().set_ylim(0, 1)\n",
        "plt.title(\"Curve\")\n",
        "plt.xlabel(\"Epoch\")\n",
        "plt.ylabel(\"Loss/Accuracy\")\n",
        "plt.show()"
      ],
      "metadata": {
        "colab": {
          "base_uri": "https://localhost:8080/",
          "height": 487
        },
        "id": "DM-zX7VDazo7",
        "outputId": "c0a89d1d-22b8-4e1d-c21e-3f9e07bb7a18"
      },
      "execution_count": 14,
      "outputs": [
        {
          "output_type": "display_data",
          "data": {
            "text/plain": [
              "<Figure size 800x500 with 1 Axes>"
            ],
            "image/png": "[encoded data removed]"
          },
          "metadata": {}
        }
      ]
    }
  ]
}